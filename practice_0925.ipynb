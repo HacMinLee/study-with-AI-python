{
 "cells": [
  {
   "cell_type": "code",
   "execution_count": null,
   "id": "7de6259e",
   "metadata": {},
   "outputs": [
    {
     "name": "stdout",
     "output_type": "stream",
     "text": [
      "3\n",
      "['종비', '오메가3', '마그네슘', '비타민D']\n",
      "['종비', '루테인', '마그네슘', '비타민D']\n"
     ]
    }
   ],
   "source": [
    "supplements=['종비','오메가3','마그네슘']\n",
    "print(len(supplements))\n",
    "supplements.append('비타민D')  #리스트 맨뒤에 추가\n",
    "print(supplements)\n",
    "supplements[1]='루테인' #리스트내에서 바꿔치기\n",
    "print(supplements)"
   ]
  }
 ],
 "metadata": {
  "kernelspec": {
   "display_name": "Python 3",
   "language": "python",
   "name": "python3"
  },
  "language_info": {
   "codemirror_mode": {
    "name": "ipython",
    "version": 3
   },
   "file_extension": ".py",
   "mimetype": "text/x-python",
   "name": "python",
   "nbconvert_exporter": "python",
   "pygments_lexer": "ipython3",
   "version": "3.13.6"
  }
 },
 "nbformat": 4,
 "nbformat_minor": 5
}
